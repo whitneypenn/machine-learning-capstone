{
 "cells": [
  {
   "cell_type": "code",
   "execution_count": 10,
   "metadata": {},
   "outputs": [],
   "source": [
    "import pandas as pd\n",
    "import matplotlib.pyplot as plt\n",
    "% matplotlib inline"
   ]
  },
  {
   "cell_type": "code",
   "execution_count": 4,
   "metadata": {},
   "outputs": [
    {
     "name": "stderr",
     "output_type": "stream",
     "text": [
      "/Users/whitney/anaconda3/lib/python3.6/site-packages/IPython/core/interactiveshell.py:2728: DtypeWarning: Columns (4) have mixed types. Specify dtype option on import or set low_memory=False.\n",
      "  interactivity=interactivity, compiler=compiler, result=result)\n"
     ]
    }
   ],
   "source": [
    "#Raw Data\n",
    "donations = pd.read_csv('../Capstone_Data/io/Donations.csv')\n",
    "donors = pd.read_csv(\"../Capstone_Data/io/Donors.csv\")\n",
    "projects = pd.read_csv(\"../Capstone_Data/io/Projects.csv\")\n",
    "resources = pd.read_csv(\"../Capstone_Data/io/Resources.csv\")\n",
    "schools = pd.read_csv(\"../Capstone_Data/io/Schools.csv\")\n",
    "teachers = pd.read_csv(\"../Capstone_Data/io/Teachers.csv\")"
   ]
  },
  {
   "cell_type": "code",
   "execution_count": 5,
   "metadata": {},
   "outputs": [],
   "source": [
    "#Kaggle Training Data\n",
    "train = pd.read_csv(\"~/Galvanize/Capstone_Data/train.csv\")"
   ]
  },
  {
   "cell_type": "code",
   "execution_count": 10,
   "metadata": {},
   "outputs": [],
   "source": [
    "data_sets = [donations, donors, projects, resources, schools, teachers]\n",
    "set_names = ['donations', 'donors', 'projects', 'resources', 'schools', 'teachers']"
   ]
  },
  {
   "cell_type": "code",
   "execution_count": 11,
   "metadata": {},
   "outputs": [
    {
     "name": "stdout",
     "output_type": "stream",
     "text": [
      "(4687884, 7)\n",
      "Columns in donations\n",
      "['Project ID' 'Donation ID' 'Donor ID'\n",
      " 'Donation Included Optional Donation' 'Donation Amount'\n",
      " 'Donor Cart Sequence' 'Donation Received Date']\n",
      "\n",
      "(2122640, 5)\n",
      "Columns in donors\n",
      "['Donor ID' 'Donor City' 'Donor State' 'Donor Is Teacher' 'Donor Zip']\n",
      "\n",
      "(1110017, 18)\n",
      "Columns in projects\n",
      "['Project ID' 'School ID' 'Teacher ID' 'Teacher Project Posted Sequence'\n",
      " 'Project Type' 'Project Title' 'Project Essay'\n",
      " 'Project Short Description' 'Project Need Statement'\n",
      " 'Project Subject Category Tree' 'Project Subject Subcategory Tree'\n",
      " 'Project Grade Level Category' 'Project Resource Category' 'Project Cost'\n",
      " 'Project Posted Date' 'Project Expiration Date' 'Project Current Status'\n",
      " 'Project Fully Funded Date']\n",
      "\n",
      "(7210448, 5)\n",
      "Columns in resources\n",
      "['Project ID' 'Resource Item Name' 'Resource Quantity'\n",
      " 'Resource Unit Price' 'Resource Vendor Name']\n",
      "\n",
      "(72993, 9)\n",
      "Columns in schools\n",
      "['School ID' 'School Name' 'School Metro Type'\n",
      " 'School Percentage Free Lunch' 'School State' 'School Zip' 'School City'\n",
      " 'School County' 'School District']\n",
      "\n",
      "(402900, 3)\n",
      "Columns in teachers\n",
      "['Teacher ID' 'Teacher Prefix' 'Teacher First Project Posted Date']\n",
      "\n"
     ]
    }
   ],
   "source": [
    "for idx, data in enumerate(data_sets):\n",
    "    print(data.shape)\n",
    "    print('Columns in', set_names[idx])\n",
    "    print(data.columns.values)\n",
    "    print()"
   ]
  },
  {
   "cell_type": "code",
   "execution_count": 15,
   "metadata": {},
   "outputs": [],
   "source": [
    "nan = projects['Project Fully Funded Date']"
   ]
  },
  {
   "cell_type": "code",
   "execution_count": 19,
   "metadata": {},
   "outputs": [
    {
     "data": {
      "text/plain": [
       "0          Did you know that 1-7 students in grades K-12 ...\n",
       "1          Help us have a fun, interactive listening cent...\n",
       "2          Visiting or moving to a new place can be very ...\n",
       "3          Students at our school are still working hard ...\n",
       "4          \"Idle hands\" were something that Issac Watts s...\n",
       "5          We know that success in school is directly rel...\n",
       "6          Travel and hands on experiences outside the cl...\n",
       "7          Current events, news, and non-fiction articles...\n",
       "8          Grammar can be tricky!  My students face many ...\n",
       "9          Do you remember when your parents read bedtime...\n",
       "10         Teasing is part of being a kid, right? Wrong! ...\n",
       "11         Help keep us engaged and active in our learnin...\n",
       "12         Early exposure to books can be an important co...\n",
       "13         We have tried having communities of materials ...\n",
       "14         Learning to read is a process of building skil...\n",
       "15         What student wants to sit in their desk all da...\n",
       "16         In today's society, children are experiencing ...\n",
       "17         Can you imagine what it's like to be dropped i...\n",
       "18         As a first year teacher, I have noticed my stu...\n",
       "19         Ever have trouble focusing on your work becaus...\n",
       "20         I teach first grade at an AMAZING public schoo...\n",
       "21         Program error!  This tends to be the message m...\n",
       "22         My students have been greatly blessed by donor...\n",
       "23         It amazes me how children today know so much a...\n",
       "24         \"Is it my library day?\" My students are so eag...\n",
       "25         Do you remember your favorite classroom from e...\n",
       "26         In the age of technology, everything is comput...\n",
       "27         Have you ever tried to focus in a room full of...\n",
       "28         My students are a fabulous group of high energ...\n",
       "29         Do you remember those horrible worksheets? The...\n",
       "                                 ...                        \n",
       "1109987    Our students come from a low-income area, with...\n",
       "1109988    Every student in our small K-8 building will w...\n",
       "1109989    The students attending my school come from low...\n",
       "1109990    Our students come from different areas of our ...\n",
       "1109991    I am a teacher in a high poverty school where ...\n",
       "1109992    Do you know what unconditional love feels like...\n",
       "1109993    My students are an incredibly diverse populati...\n",
       "1109994    I teach at a middle school in a large city. We...\n",
       "1109995    Our school is a growing school in an small tow...\n",
       "1109996    I teach 5th grade because I chose education as...\n",
       "1109997    We are learning more and more about how trauma...\n",
       "1109998    \"So it is with children who learn to read flue...\n",
       "1109999    We are a diverse group of active and engaged l...\n",
       "1110000    I work with students diagnosed with a variety ...\n",
       "1110001    The Bulldogs are a select group of male studen...\n",
       "1110002    My students come from a low income area and ou...\n",
       "1110003    My classroom is made of students that come fro...\n",
       "1110004    My students range from kindergarten to fourth ...\n",
       "1110005    Many of our students and athletes come from lo...\n",
       "1110006    Our school is a very small rural school 10 mil...\n",
       "1110007    As an instructional coach in a low-income scho...\n",
       "1110008    I teach a group of Kindergarten students in Ca...\n",
       "1110009    I teach at a preK- 4th grade school. We are hi...\n",
       "1110010    We are an elementary school in the only distri...\n",
       "1110011    I love that my students are passionate about r...\n",
       "1110012    Most of the scholars had no idea that they wou...\n",
       "1110013          My students are super second graders!!! ...\n",
       "1110014    I teach at a Title I school, and 76% of studen...\n",
       "1110015    I teach at a Title I school for a district tha...\n",
       "1110016    My preschool students are the sweetest, despit...\n",
       "Name: Project Essay, Length: 1110017, dtype: object"
      ]
     },
     "execution_count": 19,
     "metadata": {},
     "output_type": "execute_result"
    }
   ],
   "source": [
    "projects['Project Essay']\n",
    "\n"
   ]
  },
  {
   "cell_type": "code",
   "execution_count": 44,
   "metadata": {},
   "outputs": [
    {
     "name": "stdout",
     "output_type": "stream",
     "text": [
      "255737.67\n"
     ]
    }
   ],
   "source": [
    "print(projects[\"Project Cost\"].max())\n",
    "idx = projects[\"Project Cost\"].values.argmax()\n"
   ]
  },
  {
   "cell_type": "code",
   "execution_count": 45,
   "metadata": {
    "scrolled": true
   },
   "outputs": [
    {
     "data": {
      "text/html": [
       "<div>\n",
       "<style scoped>\n",
       "    .dataframe tbody tr th:only-of-type {\n",
       "        vertical-align: middle;\n",
       "    }\n",
       "\n",
       "    .dataframe tbody tr th {\n",
       "        vertical-align: top;\n",
       "    }\n",
       "\n",
       "    .dataframe thead th {\n",
       "        text-align: right;\n",
       "    }\n",
       "</style>\n",
       "<table border=\"1\" class=\"dataframe\">\n",
       "  <thead>\n",
       "    <tr style=\"text-align: right;\">\n",
       "      <th></th>\n",
       "      <th>Project ID</th>\n",
       "      <th>School ID</th>\n",
       "      <th>Teacher ID</th>\n",
       "      <th>Teacher Project Posted Sequence</th>\n",
       "      <th>Project Type</th>\n",
       "      <th>Project Title</th>\n",
       "      <th>Project Essay</th>\n",
       "      <th>Project Short Description</th>\n",
       "      <th>Project Need Statement</th>\n",
       "      <th>Project Subject Category Tree</th>\n",
       "      <th>Project Subject Subcategory Tree</th>\n",
       "      <th>Project Grade Level Category</th>\n",
       "      <th>Project Resource Category</th>\n",
       "      <th>Project Cost</th>\n",
       "      <th>Project Posted Date</th>\n",
       "      <th>Project Expiration Date</th>\n",
       "      <th>Project Current Status</th>\n",
       "      <th>Project Fully Funded Date</th>\n",
       "    </tr>\n",
       "  </thead>\n",
       "  <tbody>\n",
       "    <tr>\n",
       "      <th>376933</th>\n",
       "      <td>bbbc6cccccd3c1bc8c44ec494bb6cf23</td>\n",
       "      <td>bcd76789a5ed1894cad90177b56f9d90</td>\n",
       "      <td>ba835ad62be9d5f38b2e54a8edbf83fb</td>\n",
       "      <td>1</td>\n",
       "      <td>Teacher-Led</td>\n",
       "      <td>Fund Olympic Fencing Programs at Democracy Prep!</td>\n",
       "      <td>We are network of 17 schools across inner city...</td>\n",
       "      <td>We are network of 17 schools across inner city...</td>\n",
       "      <td>My students need fencing equipment for our pro...</td>\n",
       "      <td>Health &amp; Sports</td>\n",
       "      <td>Gym &amp; Fitness</td>\n",
       "      <td>Grades 3-5</td>\n",
       "      <td>Supplies</td>\n",
       "      <td>255737.67</td>\n",
       "      <td>2015-08-28</td>\n",
       "      <td>2016-01-29</td>\n",
       "      <td>Fully Funded</td>\n",
       "      <td>2015-12-28</td>\n",
       "    </tr>\n",
       "  </tbody>\n",
       "</table>\n",
       "</div>"
      ],
      "text/plain": [
       "                              Project ID                         School ID  \\\n",
       "376933  bbbc6cccccd3c1bc8c44ec494bb6cf23  bcd76789a5ed1894cad90177b56f9d90   \n",
       "\n",
       "                              Teacher ID  Teacher Project Posted Sequence  \\\n",
       "376933  ba835ad62be9d5f38b2e54a8edbf83fb                                1   \n",
       "\n",
       "       Project Type                                     Project Title  \\\n",
       "376933  Teacher-Led  Fund Olympic Fencing Programs at Democracy Prep!   \n",
       "\n",
       "                                            Project Essay  \\\n",
       "376933  We are network of 17 schools across inner city...   \n",
       "\n",
       "                                Project Short Description  \\\n",
       "376933  We are network of 17 schools across inner city...   \n",
       "\n",
       "                                   Project Need Statement  \\\n",
       "376933  My students need fencing equipment for our pro...   \n",
       "\n",
       "       Project Subject Category Tree Project Subject Subcategory Tree  \\\n",
       "376933               Health & Sports                    Gym & Fitness   \n",
       "\n",
       "       Project Grade Level Category Project Resource Category  Project Cost  \\\n",
       "376933                   Grades 3-5                  Supplies     255737.67   \n",
       "\n",
       "       Project Posted Date Project Expiration Date Project Current Status  \\\n",
       "376933          2015-08-28              2016-01-29           Fully Funded   \n",
       "\n",
       "       Project Fully Funded Date  \n",
       "376933                2015-12-28  "
      ]
     },
     "execution_count": 45,
     "metadata": {},
     "output_type": "execute_result"
    }
   ],
   "source": [
    "projects.iloc[[idx]]\n",
    "\n"
   ]
  },
  {
   "cell_type": "code",
   "execution_count": null,
   "metadata": {},
   "outputs": [],
   "source": []
  },
  {
   "cell_type": "code",
   "execution_count": 59,
   "metadata": {},
   "outputs": [
    {
     "data": {
      "text/plain": [
       "5.197412316442434"
      ]
     },
     "execution_count": 59,
     "metadata": {},
     "output_type": "execute_result"
    }
   ],
   "source": [
    "donations.groupby('Project ID').count()['Donation ID'].mean()"
   ]
  },
  {
   "cell_type": "code",
   "execution_count": 64,
   "metadata": {},
   "outputs": [
    {
     "data": {
      "text/plain": [
       "0.7448210252635771"
      ]
     },
     "execution_count": 64,
     "metadata": {},
     "output_type": "execute_result"
    }
   ],
   "source": [
    "projects[\"Project Fully Funded Date\"].notnull().sum()/len(projects)"
   ]
  },
  {
   "cell_type": "code",
   "execution_count": 78,
   "metadata": {},
   "outputs": [
    {
     "data": {
      "text/plain": [
       "0.7268825627767893"
      ]
     },
     "execution_count": 78,
     "metadata": {},
     "output_type": "execute_result"
    }
   ],
   "source": [
    "(donations.groupby('Donor ID').count()['Project ID'] == 1).sum()/2024554"
   ]
  },
  {
   "cell_type": "code",
   "execution_count": 77,
   "metadata": {},
   "outputs": [
    {
     "data": {
      "text/plain": [
       "2024554"
      ]
     },
     "execution_count": 77,
     "metadata": {},
     "output_type": "execute_result"
    }
   ],
   "source": [
    "len(donations['Donor ID'].unique())"
   ]
  },
  {
   "cell_type": "code",
   "execution_count": 80,
   "metadata": {},
   "outputs": [
    {
     "data": {
      "text/plain": [
       "Index(['Project ID', 'School ID', 'Teacher ID',\n",
       "       'Teacher Project Posted Sequence', 'Project Type', 'Project Title',\n",
       "       'Project Essay', 'Project Short Description', 'Project Need Statement',\n",
       "       'Project Subject Category Tree', 'Project Subject Subcategory Tree',\n",
       "       'Project Grade Level Category', 'Project Resource Category',\n",
       "       'Project Cost', 'Project Posted Date', 'Project Expiration Date',\n",
       "       'Project Current Status', 'Project Fully Funded Date'],\n",
       "      dtype='object')"
      ]
     },
     "execution_count": 80,
     "metadata": {},
     "output_type": "execute_result"
    }
   ],
   "source": [
    "projects.columns\n"
   ]
  },
  {
   "cell_type": "code",
   "execution_count": null,
   "metadata": {},
   "outputs": [],
   "source": []
  }
 ],
 "metadata": {
  "kernelspec": {
   "display_name": "Python 3",
   "language": "python",
   "name": "python3"
  },
  "language_info": {
   "codemirror_mode": {
    "name": "ipython",
    "version": 3
   },
   "file_extension": ".py",
   "mimetype": "text/x-python",
   "name": "python",
   "nbconvert_exporter": "python",
   "pygments_lexer": "ipython3",
   "version": "3.6.4"
  }
 },
 "nbformat": 4,
 "nbformat_minor": 2
}
